{
 "cells": [
  {
   "cell_type": "markdown",
   "id": "e26267a5-50fa-470c-aefe-e0ee97af7c96",
   "metadata": {},
   "source": [
    "# Data Science Project "
   ]
  },
  {
   "cell_type": "markdown",
   "id": "492e3844-fed7-4564-ade9-4687a3ae1a0f",
   "metadata": {},
   "source": [
    "# Tools for Datascience "
   ]
  },
  {
   "cell_type": "markdown",
   "id": "3379a68a-f131-481d-9591-717a4ea0e2f5",
   "metadata": {},
   "source": [
    "# Data science involves a diverse set of tools and technologies to process, analyze, and visualize data."
   ]
  },
  {
   "cell_type": "markdown",
   "id": "734bbe51-1023-42cf-adb2-ef786a6912e6",
   "metadata": {},
   "source": [
    "# List of Datascience tools"
   ]
  },
  {
   "cell_type": "code",
   "execution_count": 5,
   "id": "8c54d7be-383a-4a81-8644-b45c2b27ffba",
   "metadata": {},
   "outputs": [],
   "source": [
    "import pandas as pd"
   ]
  },
  {
   "cell_type": "markdown",
   "id": "86ed6254-a912-4447-97b1-25dafa7df05f",
   "metadata": {},
   "source": [
    "# Data Science Languages\n",
    "| Language | Description                                                                 |\n",
    "|----------|-----------------------------------------------------------------------------|\n",
    "| Python   | Widely used for its readability and extensive libraries for data manipulation, analysis, and machine learning. |\n",
    "| R        | Preferred for statistical analysis and data visualization.                  |\n",
    "| SQL      | Essential for managing and querying relational databases.                   |\n",
    "| Julia    | Known for high-performance numerical and scientific computing.              |\n",
    "| Java     | Utilized in large-scale data processing and enterprise-level applications.  |\n",
    "| Scala    | Often used with Apache Spark for big data processing.                       |\n"
   ]
  },
  {
   "cell_type": "markdown",
   "id": "6e4d2666-713c-447e-ae47-617839a95fb7",
   "metadata": {},
   "source": [
    "# Data Science Libraries "
   ]
  },
  {
   "cell_type": "markdown",
   "id": "b926e3f4-fbb3-4312-94dc-b1cc6f4f121a",
   "metadata": {},
   "source": [
    "\n",
    "| Library       | Language | \n",
    "|---------------|----------|\n",
    "| Pandas        | Python   | \n",
    "| NumPy         | Python   | \n",
    "| Matplotlib    | Python   | \n",
    "| Seaborn       | Python   | \n",
    "| Scikit-learn  | Python   | \n",
    "| TensorFlow    | Python   | \n",
    "| Keras         | Python   | \n",
    "| PyTorch       | Python   | \n",
    "| ggplot2       | R        | \n",
    "| dplyr         | R        | \n",
    "| caret         | R        |                                  \n"
   ]
  },
  {
   "cell_type": "markdown",
   "id": "ce6bad7e-2fba-4df1-8130-e2e674f2c95f",
   "metadata": {},
   "source": [
    "# Data Science Tools "
   ]
  },
  {
   "cell_type": "markdown",
   "id": "23431ef6-8923-49e3-b7c1-b3efe0b633b0",
   "metadata": {},
   "source": [
    "# Tools for Data Science\n",
    "\n",
    "| Tool           | \n",
    "|----------------|\n",
    "| Jupyter Notebook |\n",
    "| RStudio         | \n",
    "| Apache Hadoop   | \n",
    "| Apache Spark    | \n",
    "| Tableau         | \n",
    "| Power BI        |\n",
    "| SQL             | \n",
    "| GitHub          | \n",
    "| Docker          | \n",
    "| Kubernetes      | \n",
    "| Anaconda        | \n"
   ]
  },
  {
   "cell_type": "markdown",
   "id": "a3c21eca-1f05-4b1a-a68b-f54e9bb9646b",
   "metadata": {},
   "source": [
    "# Arithmetic Expression Examples\n",
    "Arithmetic expressions are fundamental components in mathematics and programming, allowing for the computation of values using operators such as addition, subtraction, multiplication, and division. \n"
   ]
  },
  {
   "cell_type": "code",
   "execution_count": 9,
   "id": "95c0d123-0e5a-49e5-a38d-cd4264affb9d",
   "metadata": {},
   "outputs": [
    {
     "name": "stdout",
     "output_type": "stream",
     "text": [
      "Result of multiplication: 40\n",
      "Result of addition: 25\n"
     ]
    }
   ],
   "source": [
    "#  Multiplication\n",
    "result_multiply = 5 * 8\n",
    "print(\"Result of multiplication:\", result_multiply)\n",
    "\n",
    "# Addition\n",
    "result_addition = 10 + 15\n",
    "print(\"Result of addition:\", result_addition)\n"
   ]
  },
  {
   "cell_type": "code",
   "execution_count": 10,
   "id": "02eb3740-b36a-4699-b233-02b7adb02c3b",
   "metadata": {},
   "outputs": [
    {
     "name": "stdout",
     "output_type": "stream",
     "text": [
      "150 minutes is equal to 2.5 hours.\n"
     ]
    }
   ],
   "source": [
    "# Convert minutes to hours\n",
    "minutes = 150\n",
    "hours = minutes / 60\n",
    "print(\"150 minutes is equal to\", hours, \"hours.\")\n"
   ]
  },
  {
   "cell_type": "markdown",
   "id": "41a9c04f-91a3-4031-a043-7b6daf809dfb",
   "metadata": {},
   "source": [
    "# Arithmetic expressions are fundamental components in mathematics and programming, allowing for the computation of values using operators such as addition, subtraction, multiplication, and division.\r\n"
   ]
  },
  {
   "cell_type": "markdown",
   "id": "71816157-22d2-47d9-8b89-d3752503bf22",
   "metadata": {},
   "source": [
    "- Addition\n",
    "- Subtraction\n",
    "- Multiplication\n",
    "- Division\n"
   ]
  },
  {
   "cell_type": "markdown",
   "id": "718e7b0e-0ce5-4b85-a227-cc760bc06a90",
   "metadata": {},
   "source": [
    "Author: Ramyasai Donkeshwaram"
   ]
  },
  {
   "cell_type": "code",
   "execution_count": null,
   "id": "41a226a7-bdca-4a7f-997a-22a056d9818f",
   "metadata": {},
   "outputs": [],
   "source": []
  }
 ],
 "metadata": {
  "kernelspec": {
   "display_name": "Python 3 (ipykernel)",
   "language": "python",
   "name": "python3"
  },
  "language_info": {
   "codemirror_mode": {
    "name": "ipython",
    "version": 3
   },
   "file_extension": ".py",
   "mimetype": "text/x-python",
   "name": "python",
   "nbconvert_exporter": "python",
   "pygments_lexer": "ipython3",
   "version": "3.11.7"
  }
 },
 "nbformat": 4,
 "nbformat_minor": 5
}
